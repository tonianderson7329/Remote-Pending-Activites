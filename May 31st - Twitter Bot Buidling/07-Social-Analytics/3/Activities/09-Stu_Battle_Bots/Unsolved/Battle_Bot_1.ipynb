{
 "cells": [
  {
   "cell_type": "code",
   "execution_count": 1,
   "metadata": {},
   "outputs": [],
   "source": [
    "# Dependencies\n",
    "import numpy as np\n",
    "import pandas as pd\n",
    "import tweepy\n",
    "import time\n",
    "import json\n",
    "from config import consumer_key, consumer_secret, access_token, access_token_secret"
   ]
  },
  {
   "cell_type": "code",
   "execution_count": 5,
   "metadata": {},
   "outputs": [],
   "source": [
    "# Twitter API Keys\n",
    "consumer_key = consumer_key\n",
    "consumer_secret = consumer_secret\n",
    "access_token = access_token\n",
    "access_token_secret = access_token_secret"
   ]
  },
  {
   "cell_type": "code",
   "execution_count": 6,
   "metadata": {},
   "outputs": [],
   "source": [
    "# Twitter Credentials\n",
    "auth = tweepy.OAuthHandler(consumer_key, consumer_secret)\n",
    "auth.set_access_token(access_token, access_token_secret)\n",
    "api = tweepy.API(auth, parser=tweepy.parsers.JSONParser())"
   ]
  },
  {
   "cell_type": "code",
   "execution_count": 7,
   "metadata": {},
   "outputs": [],
   "source": [
    "# Target Term\n",
    "my_username = \"@ToniLoveTea7329\"\n",
    "conversation_partner = \"@elimrosenberg\""
   ]
  },
  {
   "cell_type": "code",
   "execution_count": 8,
   "metadata": {},
   "outputs": [
    {
     "data": {
      "text/plain": [
       "{'contributors': None,\n",
       " 'coordinates': None,\n",
       " 'created_at': 'Fri Jun 01 01:48:25 +0000 2018',\n",
       " 'entities': {'hashtags': [],\n",
       "  'symbols': [],\n",
       "  'urls': [],\n",
       "  'user_mentions': [{'id': 998970667377876998,\n",
       "    'id_str': '998970667377876998',\n",
       "    'indices': [0, 14],\n",
       "    'name': 'Eli Rosenberg',\n",
       "    'screen_name': 'elimrosenberg'}]},\n",
       " 'favorite_count': 0,\n",
       " 'favorited': False,\n",
       " 'geo': None,\n",
       " 'id': 1002366224377040896,\n",
       " 'id_str': '1002366224377040896',\n",
       " 'in_reply_to_screen_name': 'elimrosenberg',\n",
       " 'in_reply_to_status_id': None,\n",
       " 'in_reply_to_status_id_str': None,\n",
       " 'in_reply_to_user_id': 998970667377876998,\n",
       " 'in_reply_to_user_id_str': '998970667377876998',\n",
       " 'is_quote_status': False,\n",
       " 'lang': 'und',\n",
       " 'place': None,\n",
       " 'retweet_count': 0,\n",
       " 'retweeted': False,\n",
       " 'source': '<a href=\"https://google.com\" rel=\"nofollow\">MyLovesTeaApp</a>',\n",
       " 'text': '@elimrosenberg',\n",
       " 'truncated': False,\n",
       " 'user': {'contributors_enabled': False,\n",
       "  'created_at': 'Sat Sep 01 14:49:20 +0000 2012',\n",
       "  'default_profile': True,\n",
       "  'default_profile_image': False,\n",
       "  'description': '',\n",
       "  'entities': {'description': {'urls': []}},\n",
       "  'favourites_count': 3,\n",
       "  'follow_request_sent': False,\n",
       "  'followers_count': 4,\n",
       "  'following': False,\n",
       "  'friends_count': 31,\n",
       "  'geo_enabled': True,\n",
       "  'has_extended_profile': False,\n",
       "  'id': 796235210,\n",
       "  'id_str': '796235210',\n",
       "  'is_translation_enabled': False,\n",
       "  'is_translator': False,\n",
       "  'lang': 'en',\n",
       "  'listed_count': 0,\n",
       "  'location': '',\n",
       "  'name': 'Toni',\n",
       "  'notifications': False,\n",
       "  'profile_background_color': 'C0DEED',\n",
       "  'profile_background_image_url': 'http://abs.twimg.com/images/themes/theme1/bg.png',\n",
       "  'profile_background_image_url_https': 'https://abs.twimg.com/images/themes/theme1/bg.png',\n",
       "  'profile_background_tile': False,\n",
       "  'profile_image_url': 'http://pbs.twimg.com/profile_images/378800000779824206/82da6bca3e3d8095bc0a1426b9ad771d_normal.jpeg',\n",
       "  'profile_image_url_https': 'https://pbs.twimg.com/profile_images/378800000779824206/82da6bca3e3d8095bc0a1426b9ad771d_normal.jpeg',\n",
       "  'profile_link_color': '1DA1F2',\n",
       "  'profile_sidebar_border_color': 'C0DEED',\n",
       "  'profile_sidebar_fill_color': 'DDEEF6',\n",
       "  'profile_text_color': '333333',\n",
       "  'profile_use_background_image': True,\n",
       "  'protected': False,\n",
       "  'screen_name': 'ToniLoveTea7329',\n",
       "  'statuses_count': 25,\n",
       "  'time_zone': None,\n",
       "  'translator_type': 'none',\n",
       "  'url': None,\n",
       "  'utc_offset': None,\n",
       "  'verified': False}}"
      ]
     },
     "execution_count": 8,
     "metadata": {},
     "output_type": "execute_result"
    }
   ],
   "source": [
    "# Send opening message to conversation partner\n",
    "api.update_status(f'{conversation_partner}')"
   ]
  },
  {
   "cell_type": "code",
   "execution_count": 9,
   "metadata": {},
   "outputs": [],
   "source": [
    "# Response Lines\n",
    "response_lines = [\n",
    "    \"@elimrosenberg What up man. You see LeBron James\",\n",
    "    \"@elimrosenberg Ok not sure what else to say\"\n",
    "]\n",
    "# @TODO: Create a list of Response Lines\n",
    "\n"
   ]
  },
  {
   "cell_type": "code",
   "execution_count": 16,
   "metadata": {},
   "outputs": [
    {
     "ename": "SyntaxError",
     "evalue": "invalid syntax (<ipython-input-16-298e0d60fae4>, line 3)",
     "output_type": "error",
     "traceback": [
      "\u001b[1;36m  File \u001b[1;32m\"<ipython-input-16-298e0d60fae4>\"\u001b[1;36m, line \u001b[1;32m3\u001b[0m\n\u001b[1;33m    def Converse(line number):\u001b[0m\n\u001b[1;37m                           ^\u001b[0m\n\u001b[1;31mSyntaxError\u001b[0m\u001b[1;31m:\u001b[0m invalid syntax\n"
     ]
    }
   ],
   "source": [
    "# # @TODO: Create converse function\n",
    "#\n",
    "def Converse(line number):\n",
    "   \n",
    "#     # @TODO: Find the latest tweet from conversation_partner\n",
    "#    \n",
    "public_tweets = api.search(conversation_partner, count=1, result_type=\"recent\")\n",
    "for tweet in public_tweets:\n",
    "    print(tweet)\n",
    "\n",
    "for tweet in public_tweets:\n",
    "        print(\"respond to\", tweet)\n",
    "#         # @TODO: Respond to the tweet with one of the response lines\n",
    "#        \n",
    "tweet_id = tweet[\"id\"]\n",
    "print(tweet_id)\n",
    "print(tweet[\"text\"])\n",
    "api.update_status(\n",
    "    response_lines[line_number],\n",
    "    in_reply_to_status_id=tweet_id)\n",
    "\n",
    "\n",
    "# @TODO: Set timer to run every minute"
   ]
  },
  {
   "cell_type": "code",
   "execution_count": null,
   "metadata": {
    "collapsed": true
   },
   "outputs": [],
   "source": [
    "for x in range(len(response_lines)):\n",
    "    Converse(x)\n",
    "    time.sleep(60)"
   ]
  },
  {
   "cell_type": "code",
   "execution_count": null,
   "metadata": {
    "collapsed": true
   },
   "outputs": [],
   "source": []
  }
 ],
 "metadata": {
  "kernelspec": {
   "display_name": "Python 3",
   "language": "python",
   "name": "python3"
  },
  "language_info": {
   "codemirror_mode": {
    "name": "ipython",
    "version": 3
   },
   "file_extension": ".py",
   "mimetype": "text/x-python",
   "name": "python",
   "nbconvert_exporter": "python",
   "pygments_lexer": "ipython3",
   "version": "3.6.4"
  },
  "nteract": {
   "version": "0.8.4"
  }
 },
 "nbformat": 4,
 "nbformat_minor": 2
}
