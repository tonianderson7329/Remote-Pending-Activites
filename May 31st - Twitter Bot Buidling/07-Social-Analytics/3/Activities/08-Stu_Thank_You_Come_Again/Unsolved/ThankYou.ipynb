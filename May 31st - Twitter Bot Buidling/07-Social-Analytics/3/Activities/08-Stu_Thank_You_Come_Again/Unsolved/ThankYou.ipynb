{
 "cells": [
  {
   "cell_type": "code",
   "execution_count": 1,
   "metadata": {},
   "outputs": [],
   "source": [
    "# Dependencies\n",
    "import numpy as np\n",
    "import tweepy\n",
    "import time\n",
    "import json\n",
    "from config import consumer_key, consumer_secret, access_token, access_token_secret"
   ]
  },
  {
   "cell_type": "code",
   "execution_count": 2,
   "metadata": {},
   "outputs": [],
   "source": [
    "# Twitter API Keys\n",
    "consumer_key = consumer_key\n",
    "consumer_secret = consumer_secret\n",
    "access_token = access_token\n",
    "access_token_secret = access_token_secret"
   ]
  },
  {
   "cell_type": "code",
   "execution_count": 3,
   "metadata": {},
   "outputs": [],
   "source": [
    "# Target Term\n",
    "target_term = \"@data_stew\""
   ]
  },
  {
   "cell_type": "code",
   "execution_count": 4,
   "metadata": {},
   "outputs": [
    {
     "name": "stdout",
     "output_type": "stream",
     "text": [
      "We're going live!\n"
     ]
    }
   ],
   "source": [
    "# Opening message\n",
    "print(\"We're going live!\")"
   ]
  },
  {
   "cell_type": "code",
   "execution_count": 8,
   "metadata": {},
   "outputs": [],
   "source": [
    "# Create Thank You Function\n",
    "def ThankYou():\n",
    "\n",
    "    # Twitter Credentials\n",
    "    auth = tweepy.OAuthHandler(consumer_key, consumer_secret)\n",
    "    auth.set_access_token(access_token, access_token_secret)\n",
    "    api = tweepy.API(auth, parser=tweepy.parsers.JSONParser())\n",
    "\n",
    "    # Search for all tweets\n",
    "    public_tweets = api.search(target_term, count=100, result_type=\"recent\")\n",
    "\n",
    "    # Loop through all tweets\n",
    "    for tweet in public_tweets[\"statuses\"]:\n",
    "\n",
    "        # Get ID and Author of most recent tweet directed to me\n",
    "        tweet_id = tweet[\"id\"]\n",
    "        tweet_author = tweet[\"user\"][\"screen_name\"]\n",
    "\n",
    "        # Print the tweet_id\n",
    "        print(tweet_id)\n",
    "\n",
    "        # Use Try-Except to avoid the duplicate error\n",
    "        try:\n",
    "            # Respond to tweet\n",
    "            api.update_status(\n",
    "                \"Thank you @%s! Come again!\" %\n",
    "                tweet_author,\n",
    "                in_reply_to_status_id=tweet_id)\n",
    "\n",
    "            # Print success message\n",
    "            print(\"Successful response!\")\n",
    "\n",
    "        except Exception:            # Print message if duplicate\n",
    "            print(\"Already responded to this one!\")\n",
    "\n",
    "        # Print message to signify complete cycle\n",
    "        print(\"We're done for now. I'll check again in 60 seconds.\")"
   ]
  },
  {
   "cell_type": "code",
   "execution_count": null,
   "metadata": {
    "collapsed": true
   },
   "outputs": [],
   "source": [
    "while(True):\n",
    "    ThankYou()\n",
    "    time.sleep(60)"
   ]
  }
 ],
 "metadata": {
  "kernelspec": {
   "display_name": "Python 3",
   "language": "python",
   "name": "python3"
  },
  "language_info": {
   "codemirror_mode": {
    "name": "ipython",
    "version": 3
   },
   "file_extension": ".py",
   "mimetype": "text/x-python",
   "name": "python",
   "nbconvert_exporter": "python",
   "pygments_lexer": "ipython3",
   "version": "3.6.4"
  },
  "nteract": {
   "version": "0.8.4"
  }
 },
 "nbformat": 4,
 "nbformat_minor": 2
}
