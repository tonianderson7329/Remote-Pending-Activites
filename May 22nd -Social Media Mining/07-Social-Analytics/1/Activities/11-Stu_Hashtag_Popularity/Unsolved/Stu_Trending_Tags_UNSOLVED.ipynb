{
 "cells": [
  {
   "cell_type": "code",
   "execution_count": 2,
   "metadata": {},
   "outputs": [],
   "source": [
    "# Dependencies\n",
    "import tweepy\n",
    "import json\n",
    "import numpy as np\n",
    "from datetime import datetime\n",
    "import matplotlib.pyplot as plt\n",
    "from config import consumer_key, consumer_secret, access_token, access_secret\n",
    "\n",
    "# Setup Tweepy API Authentication\n",
    "auth = tweepy.OAuthHandler(consumer_key, consumer_secret)\n",
    "auth.set_access_token(access_token, access_secret)\n",
    "api = tweepy.API(auth, parser=tweepy.parsers.JSONParser())"
   ]
  },
  {
   "cell_type": "code",
   "execution_count": null,
   "metadata": {
    "collapsed": true
   },
   "outputs": [],
   "source": [
    "# Target Hashtags\n",
    "target_tags = [\"#bigdata\", \"#ai\", \"#vr\", \"#foreverchuck\"]\n",
    "time_between_tweets = []\n",
    "\n",
    "# Loop through each hashtag\n",
    "for tag in target_tags:\n",
    "    \n",
    "    # Create a list to record all date-times of tweets\n",
    "    tweet_times = []\n",
    "\n",
    "    # Get 100 tweets on targeted tag\n",
    "    public_tweets = api.search(tag, rpp=100)\n",
    "    print(tag)\n",
    "\n",
    "    # Loop through all tweets\n",
    "    for tweet in public_tweets[\"statuses\"]:\n",
    "\n",
    "        # Store all tweet times into the list\n",
    "        tweet_times.append(tweet[\"created_at\"])\n",
    "    \n",
    "    # Convert all tweet times into datetime objects\n",
    "    converted_timestamps = []\n",
    "for raw_time in tweet_times:\n",
    "    # https://docs.python.org/3/library/datetime.html#strftime-and-strptime-behavior\n",
    "    # http://strftime.org/\n",
    "    converted_time = datetime.strptime(raw_time, \"%a %b %d %H:%M:%S %z %Y\")\n",
    "    converted_timestamps.append(converted_time)\n",
    "    \n",
    "    # First, create a list to hold the datetime objects \n",
    "    \n",
    "tweet_time_objects = []\n",
    "\n",
    "    # Add each datetime object into the array\n",
    "    for x in range(len(tweet_times)):\n",
    "        tweet_datetime = datetime.strptime(tweet_times[x], \"%a %b %d %H:%M:%S %z %Y\")\n",
    "        tweet_time_objects.append(tweet_datetime)\n",
    "\n",
    "    # Calculate the time between tweets\n",
    "    time_in_between = []\n",
    "\n",
    "    # Calculate the time in between each tweet\n",
    "    for x in range(len(tweet_time_objects)-1):\n",
    "        secs_apart = ((tweet_time_objects[x] - tweet_time_objects[x+1]).seconds) \n",
    "        time_in_between.append(secs_apart)\n",
    "    # Seconds Between Tweets\n",
    "    print(f\"Avg. Seconds Between Tweets: {np.mean()}\")\n",
    "    print()"
   ]
  }
 ],
 "metadata": {
  "anaconda-cloud": {},
  "kernelspec": {
   "display_name": "Python 3",
   "language": "python",
   "name": "python3"
  },
  "language_info": {
   "codemirror_mode": {
    "name": "ipython",
    "version": 3
   },
   "file_extension": ".py",
   "mimetype": "text/x-python",
   "name": "python",
   "nbconvert_exporter": "python",
   "pygments_lexer": "ipython3",
   "version": "3.6.4"
  },
  "varInspector": {
   "cols": {
    "lenName": 16,
    "lenType": 16,
    "lenVar": 40
   },
   "kernels_config": {
    "python": {
     "delete_cmd_postfix": "",
     "delete_cmd_prefix": "del ",
     "library": "var_list.py",
     "varRefreshCmd": "print(var_dic_list())"
    },
    "r": {
     "delete_cmd_postfix": ") ",
     "delete_cmd_prefix": "rm(",
     "library": "var_list.r",
     "varRefreshCmd": "cat(var_dic_list()) "
    }
   },
   "types_to_exclude": [
    "module",
    "function",
    "builtin_function_or_method",
    "instance",
    "_Feature"
   ],
   "window_display": false
  }
 },
 "nbformat": 4,
 "nbformat_minor": 1
}
