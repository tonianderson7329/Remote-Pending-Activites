{
 "cells": [
  {
   "cell_type": "code",
   "execution_count": 1,
   "metadata": {},
   "outputs": [],
   "source": [
    "# Dependencies\n",
    "import tweepy\n",
    "import json\n",
    "import pandas as pd\n",
    "import matplotlib.pyplot as plt\n",
    "from config import consumer_key, consumer_secret, access_token, access_secret\n",
    "\n",
    "# Setup Tweepy API Authentication\n",
    "auth = tweepy.OAuthHandler(consumer_key, consumer_secret)\n",
    "auth.set_access_token(access_token, access_secret)\n",
    "api = tweepy.API(auth, parser=tweepy.parsers.JSONParser())"
   ]
  },
  {
   "cell_type": "code",
   "execution_count": 2,
   "metadata": {},
   "outputs": [
    {
     "data": {
      "text/html": [
       "<div>\n",
       "<style scoped>\n",
       "    .dataframe tbody tr th:only-of-type {\n",
       "        vertical-align: middle;\n",
       "    }\n",
       "\n",
       "    .dataframe tbody tr th {\n",
       "        vertical-align: top;\n",
       "    }\n",
       "\n",
       "    .dataframe thead th {\n",
       "        text-align: right;\n",
       "    }\n",
       "</style>\n",
       "<table border=\"1\" class=\"dataframe\">\n",
       "  <thead>\n",
       "    <tr style=\"text-align: right;\">\n",
       "      <th></th>\n",
       "      <th>Screen Name</th>\n",
       "      <th>Real Name</th>\n",
       "      <th>Tweets</th>\n",
       "      <th>Followers</th>\n",
       "      <th>Following</th>\n",
       "      <th>Favorites Count</th>\n",
       "    </tr>\n",
       "  </thead>\n",
       "  <tbody>\n",
       "    <tr>\n",
       "      <th>0</th>\n",
       "      <td>katyperry</td>\n",
       "      <td>KATY PERRY</td>\n",
       "      <td>9262</td>\n",
       "      <td>106975888</td>\n",
       "      <td>216</td>\n",
       "      <td>6041</td>\n",
       "    </tr>\n",
       "    <tr>\n",
       "      <th>1</th>\n",
       "      <td>justinbieber</td>\n",
       "      <td>Justin Bieber</td>\n",
       "      <td>30540</td>\n",
       "      <td>104440735</td>\n",
       "      <td>304546</td>\n",
       "      <td>3406</td>\n",
       "    </tr>\n",
       "    <tr>\n",
       "      <th>2</th>\n",
       "      <td>BarackObama</td>\n",
       "      <td>Barack Obama</td>\n",
       "      <td>15525</td>\n",
       "      <td>102323442</td>\n",
       "      <td>619017</td>\n",
       "      <td>11</td>\n",
       "    </tr>\n",
       "    <tr>\n",
       "      <th>3</th>\n",
       "      <td>Taylorswift13</td>\n",
       "      <td>Taylor Swift</td>\n",
       "      <td>100</td>\n",
       "      <td>83341513</td>\n",
       "      <td>0</td>\n",
       "      <td>464</td>\n",
       "    </tr>\n",
       "    <tr>\n",
       "      <th>4</th>\n",
       "      <td>rihanna</td>\n",
       "      <td>Rihanna</td>\n",
       "      <td>10181</td>\n",
       "      <td>87597467</td>\n",
       "      <td>1103</td>\n",
       "      <td>1004</td>\n",
       "    </tr>\n",
       "  </tbody>\n",
       "</table>\n",
       "</div>"
      ],
      "text/plain": [
       "     Screen Name      Real Name Tweets  Followers Following Favorites Count\n",
       "0      katyperry     KATY PERRY   9262  106975888       216            6041\n",
       "1   justinbieber  Justin Bieber  30540  104440735    304546            3406\n",
       "2    BarackObama   Barack Obama  15525  102323442    619017              11\n",
       "3  Taylorswift13   Taylor Swift    100   83341513         0             464\n",
       "4        rihanna        Rihanna  10181   87597467      1103            1004"
      ]
     },
     "execution_count": 2,
     "metadata": {},
     "output_type": "execute_result"
    }
   ],
   "source": [
    "# Import CSV file into Data Frame\n",
    "popular_tweeters = pd.read_csv(\"../Resources/PopularAccounts.csv\", dtype=str)\n",
    "\n",
    "# Iterate through DataFrame\n",
    "for index, row in popular_tweeters.iterrows():\n",
    "\n",
    "    try:\n",
    "        # Grab the username\n",
    "        target_user = row[\"Screen Name\"]\n",
    "        # print(target_user)\n",
    "\n",
    "        # Use the username with the Twitter API get_user\n",
    "        user_account = api.get_user(target_user)\n",
    "        user_real_name = user_account[\"name\"]\n",
    "\n",
    "        # Get the specific column data\n",
    "        user_tweets = user_account[\"statuses_count\"]\n",
    "        user_followers = user_account[\"followers_count\"]\n",
    "        user_following = user_account[\"friends_count\"]\n",
    "        user_favorites = user_account[\"favourites_count\"]\n",
    "\n",
    "        # Replace the row information for each\n",
    "        popular_tweeters.at[index, \"Real Name\"] = user_real_name\n",
    "        popular_tweeters.at[index, \"Tweets\"] = user_tweets\n",
    "        popular_tweeters.at[index, \"Followers\"] = user_followers\n",
    "        popular_tweeters.at[index, \"Following\"] = user_following\n",
    "        popular_tweeters.at[index, \"Favorites Count\"] = user_favorites\n",
    "        \n",
    "    except tweepy.TweepError as e:\n",
    "        print(f\"exception for {row['Screen Name']}: {e}\")\n",
    "        popular_tweeters.drop(index=index,inplace=True)\n",
    "    \n",
    "# Export the new CSV\n",
    "popular_tweeters.to_csv(\"PopularAcounts_New.csv\", index=False)\n",
    "\n",
    "# View the DataFrame\n",
    "popular_tweeters.head()"
   ]
  },
  {
   "cell_type": "code",
   "execution_count": 3,
   "metadata": {},
   "outputs": [
    {
     "data": {
      "text/html": [
       "<div>\n",
       "<style scoped>\n",
       "    .dataframe tbody tr th:only-of-type {\n",
       "        vertical-align: middle;\n",
       "    }\n",
       "\n",
       "    .dataframe tbody tr th {\n",
       "        vertical-align: top;\n",
       "    }\n",
       "\n",
       "    .dataframe thead th {\n",
       "        text-align: right;\n",
       "    }\n",
       "</style>\n",
       "<table border=\"1\" class=\"dataframe\">\n",
       "  <thead>\n",
       "    <tr style=\"text-align: right;\">\n",
       "      <th></th>\n",
       "      <th>Average Favorites Count</th>\n",
       "      <th>Average Follower Count</th>\n",
       "      <th>Average Following Count</th>\n",
       "      <th>Average Tweet Count</th>\n",
       "    </tr>\n",
       "  </thead>\n",
       "  <tbody>\n",
       "    <tr>\n",
       "      <th>0</th>\n",
       "      <td>1922.06</td>\n",
       "      <td>49443149.38</td>\n",
       "      <td>31510.44</td>\n",
       "      <td>33291.58</td>\n",
       "    </tr>\n",
       "  </tbody>\n",
       "</table>\n",
       "</div>"
      ],
      "text/plain": [
       "   Average Favorites Count  Average Follower Count  Average Following Count  \\\n",
       "0                  1922.06             49443149.38                 31510.44   \n",
       "\n",
       "   Average Tweet Count  \n",
       "0             33291.58  "
      ]
     },
     "execution_count": 3,
     "metadata": {},
     "output_type": "execute_result"
    }
   ],
   "source": [
    "# Calculate Averages\n",
    "average_tweet_count = popular_tweeters[\"Tweets\"].mean()\n",
    "average_followers = popular_tweeters[\"Followers\"].mean()\n",
    "average_following_count = popular_tweeters[\"Following\"].mean()\n",
    "average_favorites_count = popular_tweeters[\"Favorites Count\"].mean()\n",
    "\n",
    "# Create DataFrame\n",
    "averages = {\"Average Tweet Count\": average_tweet_count, \n",
    "            \"Average Follower Count\": average_followers, \n",
    "            \"Average Following Count\": average_following_count,\n",
    "            \"Average Favorites Count\": average_favorites_count}\n",
    "\n",
    "# Create a Dataframe of the averages\n",
    "pd.DataFrame(averages, index=[0])"
   ]
  },
  {
   "cell_type": "code",
   "execution_count": 4,
   "metadata": {},
   "outputs": [
    {
     "data": {
      "text/html": [
       "<div>\n",
       "<style scoped>\n",
       "    .dataframe tbody tr th:only-of-type {\n",
       "        vertical-align: middle;\n",
       "    }\n",
       "\n",
       "    .dataframe tbody tr th {\n",
       "        vertical-align: top;\n",
       "    }\n",
       "\n",
       "    .dataframe thead th {\n",
       "        text-align: right;\n",
       "    }\n",
       "</style>\n",
       "<table border=\"1\" class=\"dataframe\">\n",
       "  <thead>\n",
       "    <tr style=\"text-align: right;\">\n",
       "      <th></th>\n",
       "      <th>Screen Name</th>\n",
       "      <th>Real Name</th>\n",
       "      <th>Tweets</th>\n",
       "      <th>Followers</th>\n",
       "      <th>Following</th>\n",
       "      <th>Favorites Count</th>\n",
       "    </tr>\n",
       "  </thead>\n",
       "  <tbody>\n",
       "    <tr>\n",
       "      <th>0</th>\n",
       "      <td>katyperry</td>\n",
       "      <td>KATY PERRY</td>\n",
       "      <td>9262</td>\n",
       "      <td>106975888</td>\n",
       "      <td>216</td>\n",
       "      <td>6041</td>\n",
       "    </tr>\n",
       "    <tr>\n",
       "      <th>1</th>\n",
       "      <td>justinbieber</td>\n",
       "      <td>Justin Bieber</td>\n",
       "      <td>30540</td>\n",
       "      <td>104440735</td>\n",
       "      <td>304546</td>\n",
       "      <td>3406</td>\n",
       "    </tr>\n",
       "    <tr>\n",
       "      <th>2</th>\n",
       "      <td>BarackObama</td>\n",
       "      <td>Barack Obama</td>\n",
       "      <td>15525</td>\n",
       "      <td>102323442</td>\n",
       "      <td>619017</td>\n",
       "      <td>11</td>\n",
       "    </tr>\n",
       "    <tr>\n",
       "      <th>3</th>\n",
       "      <td>Taylorswift13</td>\n",
       "      <td>Taylor Swift</td>\n",
       "      <td>100</td>\n",
       "      <td>83341513</td>\n",
       "      <td>0</td>\n",
       "      <td>464</td>\n",
       "    </tr>\n",
       "    <tr>\n",
       "      <th>4</th>\n",
       "      <td>rihanna</td>\n",
       "      <td>Rihanna</td>\n",
       "      <td>10181</td>\n",
       "      <td>87597467</td>\n",
       "      <td>1103</td>\n",
       "      <td>1004</td>\n",
       "    </tr>\n",
       "  </tbody>\n",
       "</table>\n",
       "</div>"
      ],
      "text/plain": [
       "     Screen Name      Real Name Tweets  Followers Following Favorites Count\n",
       "0      katyperry     KATY PERRY   9262  106975888       216            6041\n",
       "1   justinbieber  Justin Bieber  30540  104440735    304546            3406\n",
       "2    BarackObama   Barack Obama  15525  102323442    619017              11\n",
       "3  Taylorswift13   Taylor Swift    100   83341513         0             464\n",
       "4        rihanna        Rihanna  10181   87597467      1103            1004"
      ]
     },
     "execution_count": 4,
     "metadata": {},
     "output_type": "execute_result"
    }
   ],
   "source": [
    "# Extract Tweet Counts and Follower Counts\n",
    "# YOUR CODE HERE\n",
    "tweet_counts = popular_tweeters[\"Tweets\"]\n",
    "follower_counts = popular_tweeters[\"Followers\"]\n",
    "following_counts = popular_tweeters[\"Following\"]\n",
    "favorite_counts = popular_tweeters[\"Favorites Count\"]\n",
    "\n",
    "# Easy preview of headers\n",
    "popular_tweeters.head()"
   ]
  },
  {
   "cell_type": "code",
   "execution_count": 5,
   "metadata": {},
   "outputs": [],
   "source": [
    "# Extract Tweet Counts and Follower Counts\n",
    "# YOUR CODE HERE\n"
   ]
  },
  {
   "cell_type": "code",
   "execution_count": 5,
   "metadata": {},
   "outputs": [
    {
     "data": {
      "image/png": "[encoded data removed]",
      "text/plain": [
       "<matplotlib.figure.Figure at 0x2ae21c63fd0>"
      ]
     },
     "metadata": {},
     "output_type": "display_data"
    }
   ],
   "source": [
    "# Plot Tweet Counts vs Follower Counts\n",
    "# YOUR CODE HERE\n",
    "plt.scatter(tweet_counts, follower_counts)\n",
    "plt.xlabel(\"Tweet Counts\")\n",
    "plt.ylabel(\"Follower Counts\")\n",
    "plt.title(\"Tweet Counts vs Follower Counts\")\n",
    "plt.show()"
   ]
  },
  {
   "cell_type": "code",
   "execution_count": 6,
   "metadata": {},
   "outputs": [
    {
     "data": {
      "image/png": "[encoded data removed]",
      "text/plain": [
       "<matplotlib.figure.Figure at 0x2ae1ffaef98>"
      ]
     },
     "metadata": {},
     "output_type": "display_data"
    }
   ],
   "source": [
    "# Plot Number Following vs Following Counts\n",
    "# YOUR CODE HERE\n",
    "plt.scatter(following_counts, follower_counts)\n",
    "plt.xlabel(\"Number Following\")\n",
    "plt.ylabel(\"Follower Counts\")\n",
    "plt.title(\"Tweet Counts vs Following Counts\")\n",
    "plt.show()"
   ]
  },
  {
   "cell_type": "code",
   "execution_count": 7,
   "metadata": {},
   "outputs": [
    {
     "data": {
      "image/png": "[encoded data removed]",
      "text/plain": [
       "<matplotlib.figure.Figure at 0x2ae22d25a90>"
      ]
     },
     "metadata": {},
     "output_type": "display_data"
    }
   ],
   "source": [
    "# Plot Number of Favorites vs Favorite Counts\n",
    "# YOUR CODE HERE\n",
    "plt.scatter(favorite_counts, follower_counts)\n",
    "plt.xlabel(\"Number of Favorites\")\n",
    "plt.ylabel(\"Follower Counts\")\n",
    "plt.title(\"Tweet Counts vs Favorite Counts\")\n",
    "plt.show()"
   ]
  },
  {
   "cell_type": "code",
   "execution_count": null,
   "metadata": {},
   "outputs": [],
   "source": []
  }
 ],
 "metadata": {
  "anaconda-cloud": {},
  "kernelspec": {
   "display_name": "Python 3",
   "language": "python",
   "name": "python3"
  },
  "language_info": {
   "codemirror_mode": {
    "name": "ipython",
    "version": 3
   },
   "file_extension": ".py",
   "mimetype": "text/x-python",
   "name": "python",
   "nbconvert_exporter": "python",
   "pygments_lexer": "ipython3",
   "version": "3.6.4"
  },
  "varInspector": {
   "cols": {
    "lenName": 16,
    "lenType": 16,
    "lenVar": 40
   },
   "kernels_config": {
    "python": {
     "delete_cmd_postfix": "",
     "delete_cmd_prefix": "del ",
     "library": "var_list.py",
     "varRefreshCmd": "print(var_dic_list())"
    },
    "r": {
     "delete_cmd_postfix": ") ",
     "delete_cmd_prefix": "rm(",
     "library": "var_list.r",
     "varRefreshCmd": "cat(var_dic_list()) "
    }
   },
   "types_to_exclude": [
    "module",
    "function",
    "builtin_function_or_method",
    "instance",
    "_Feature"
   ],
   "window_display": false
  }
 },
 "nbformat": 4,
 "nbformat_minor": 1
}
