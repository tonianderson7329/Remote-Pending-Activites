{
 "cells": [
  {
   "cell_type": "code",
   "execution_count": 1,
   "metadata": {},
   "outputs": [],
   "source": [
    "# Dependencies\n",
    "import json"
   ]
  },
  {
   "cell_type": "code",
   "execution_count": 2,
   "metadata": {},
   "outputs": [],
   "source": [
    "# Read JSONs\n",
    "sample = \"../Resources/SampleX.json\""
   ]
  },
  {
   "cell_type": "code",
   "execution_count": 3,
   "metadata": {},
   "outputs": [],
   "source": [
    "def load_json(jsonfile):\n",
    "    \"\"\"Load JSON from a file\"\"\"\n",
    "    with open(jsonfile) as file_handle:\n",
    "        return json.load(file_handle)"
   ]
  },
  {
   "cell_type": "code",
   "execution_count": 4,
   "metadata": {},
   "outputs": [
    {
     "name": "stdout",
     "output_type": "stream",
     "text": [
      "{\n",
      "    \"contributors\": null,\n",
      "    \"coordinates\": null,\n",
      "    \"created_at\": \"Thu Mar 09 01:00:18 +0000 2017\",\n",
      "    \"entities\": {\n",
      "        \"hashtags\": [],\n",
      "        \"symbols\": [],\n",
      "        \"urls\": [],\n",
      "        \"user_mentions\": [\n",
      "            {\n",
      "                \"id\": 426802833,\n",
      "                \"id_str\": \"426802833\",\n",
      "                \"indices\": [\n",
      "                    3,\n",
      "                    15\n",
      "                ],\n",
      "                \"name\": \"AP Politics\",\n",
      "                \"screen_name\": \"AP_Politics\"\n",
      "            },\n",
      "            {\n",
      "                \"id\": 109377487,\n",
      "                \"id_str\": \"109377487\",\n",
      "                \"indices\": [\n",
      "                    122,\n",
      "                    130\n",
      "                ],\n",
      "                \"name\": \"Lolita Baldor\",\n",
      "                \"screen_name\": \"lbaldor\"\n",
      "            }\n",
      "        ]\n",
      "    },\n",
      "    \"favorite_count\": 0,\n",
      "    \"favorited\": false,\n",
      "    \"geo\": null,\n",
      "    \"id\": 839641964781924353,\n",
      "    \"id_str\": \"839641964781924353\",\n",
      "    \"in_reply_to_screen_name\": null,\n",
      "    \"in_reply_to_status_id\": null,\n",
      "    \"in_reply_to_status_id_str\": null,\n",
      "    \"in_reply_to_user_id\": null,\n",
      "    \"in_reply_to_user_id_str\": null,\n",
      "    \"is_quote_status\": false,\n",
      "    \"lang\": \"en\",\n",
      "    \"place\": null,\n",
      "    \"retweet_count\": 36,\n",
      "    \"retweeted\": false,\n",
      "    \"retweeted_status\": {\n",
      "        \"contributors\": null,\n",
      "        \"coordinates\": null,\n",
      "        \"created_at\": \"Wed Mar 08 23:39:33 +0000 2017\",\n",
      "        \"entities\": {\n",
      "            \"hashtags\": [],\n",
      "            \"symbols\": [],\n",
      "            \"urls\": [\n",
      "                {\n",
      "                    \"display_url\": \"apne.ws/2m0yjGt\",\n",
      "                    \"expanded_url\": \"http://apne.ws/2m0yjGt\",\n",
      "                    \"indices\": [\n",
      "                        115,\n",
      "                        138\n",
      "                    ],\n",
      "                    \"url\": \"https://t.co/Y0WmMVL40j\"\n",
      "                }\n",
      "            ],\n",
      "            \"user_mentions\": [\n",
      "                {\n",
      "                    \"id\": 109377487,\n",
      "                    \"id_str\": \"109377487\",\n",
      "                    \"indices\": [\n",
      "                        105,\n",
      "                        113\n",
      "                    ],\n",
      "                    \"name\": \"Lolita Baldor\",\n",
      "                    \"screen_name\": \"lbaldor\"\n",
      "                }\n",
      "            ]\n",
      "        },\n",
      "        \"favorite_count\": 14,\n",
      "        \"favorited\": false,\n",
      "        \"geo\": null,\n",
      "        \"id\": 839621639801274369,\n",
      "        \"id_str\": \"839621639801274369\",\n",
      "        \"in_reply_to_screen_name\": null,\n",
      "        \"in_reply_to_status_id\": null,\n",
      "        \"in_reply_to_status_id_str\": null,\n",
      "        \"in_reply_to_user_id\": null,\n",
      "        \"in_reply_to_user_id_str\": null,\n",
      "        \"is_quote_status\": false,\n",
      "        \"lang\": \"en\",\n",
      "        \"place\": null,\n",
      "        \"possibly_sensitive\": false,\n",
      "        \"retweet_count\": 36,\n",
      "        \"retweeted\": false,\n",
      "        \"source\": \"<a href=\\\"http://www.socialflow.com\\\" rel=\\\"nofollow\\\">SocialFlow</a>\",\n",
      "        \"text\": \"Official says couple hundred Marines arrive in Syria with artillery to help with Islamic State fight, by @lbaldor \\nhttps://t.co/Y0WmMVL40j\",\n",
      "        \"truncated\": false,\n",
      "        \"user\": {\n",
      "            \"contributors_enabled\": false,\n",
      "            \"created_at\": \"Fri Dec 02 18:26:10 +0000 2011\",\n",
      "            \"default_profile\": false,\n",
      "            \"default_profile_image\": false,\n",
      "            \"description\": \"Highlights from AP's coverage of U.S. politics and government in words, photos and video. Managed by the Washington bureau. https://t.co/lTcEv1VGoB\",\n",
      "            \"entities\": {\n",
      "                \"description\": {\n",
      "                    \"urls\": [\n",
      "                        {\n",
      "                            \"display_url\": \"apne.ws/1n6XgyB\",\n",
      "                            \"expanded_url\": \"http://apne.ws/1n6XgyB\",\n",
      "                            \"indices\": [\n",
      "                                124,\n",
      "                                147\n",
      "                            ],\n",
      "                            \"url\": \"https://t.co/lTcEv1VGoB\"\n",
      "                        }\n",
      "                    ]\n",
      "                },\n",
      "                \"url\": {\n",
      "                    \"urls\": [\n",
      "                        {\n",
      "                            \"display_url\": \"apne.ws/1p2OXkb\",\n",
      "                            \"expanded_url\": \"http://apne.ws/1p2OXkb\",\n",
      "                            \"indices\": [\n",
      "                                0,\n",
      "                                22\n",
      "                            ],\n",
      "                            \"url\": \"http://t.co/fM8tZ84l8o\"\n",
      "                        }\n",
      "                    ]\n",
      "                }\n",
      "            },\n",
      "            \"favourites_count\": 5,\n",
      "            \"follow_request_sent\": false,\n",
      "            \"followers_count\": 232562,\n",
      "            \"following\": false,\n",
      "            \"friends_count\": 618,\n",
      "            \"geo_enabled\": false,\n",
      "            \"has_extended_profile\": false,\n",
      "            \"id\": 426802833,\n",
      "            \"id_str\": \"426802833\",\n",
      "            \"is_translation_enabled\": false,\n",
      "            \"is_translator\": false,\n",
      "            \"lang\": \"en\",\n",
      "            \"listed_count\": 4051,\n",
      "            \"location\": \"Washington, D.C.\",\n",
      "            \"name\": \"AP Politics\",\n",
      "            \"notifications\": false,\n",
      "            \"profile_background_color\": \"333333\",\n",
      "            \"profile_background_image_url\": \"http://pbs.twimg.com/profile_background_images/734513135/b3be603514207db70cb0a991c26f2718.jpeg\",\n",
      "            \"profile_background_image_url_https\": \"https://pbs.twimg.com/profile_background_images/734513135/b3be603514207db70cb0a991c26f2718.jpeg\",\n",
      "            \"profile_background_tile\": false,\n",
      "            \"profile_banner_url\": \"https://pbs.twimg.com/profile_banners/426802833/1462395539\",\n",
      "            \"profile_image_url\": \"http://pbs.twimg.com/profile_images/1848262680/APLogo_Twitter_normal.jpg\",\n",
      "            \"profile_image_url_https\": \"https://pbs.twimg.com/profile_images/1848262680/APLogo_Twitter_normal.jpg\",\n",
      "            \"profile_link_color\": \"0084B4\",\n",
      "            \"profile_sidebar_border_color\": \"FFFFFF\",\n",
      "            \"profile_sidebar_fill_color\": \"DDEEF6\",\n",
      "            \"profile_text_color\": \"333333\",\n",
      "            \"profile_use_background_image\": true,\n",
      "            \"protected\": false,\n",
      "            \"screen_name\": \"AP_Politics\",\n",
      "            \"statuses_count\": 55243,\n",
      "            \"time_zone\": \"Central Time (US & Canada)\",\n",
      "            \"translator_type\": \"none\",\n",
      "            \"url\": \"http://t.co/fM8tZ84l8o\",\n",
      "            \"utc_offset\": -21600,\n",
      "            \"verified\": true\n",
      "        }\n",
      "    },\n",
      "    \"source\": \"<a href=\\\"http://www.socialflow.com\\\" rel=\\\"nofollow\\\">SocialFlow</a>\",\n",
      "    \"text\": \"RT @AP_Politics: Official says couple hundred Marines arrive in Syria with artillery to help with Islamic State fight, by @lbaldor \\nhttps:/\\u2026\",\n",
      "    \"truncated\": false,\n",
      "    \"user\": {\n",
      "        \"contributors_enabled\": false,\n",
      "        \"created_at\": \"Fri Jun 26 21:48:52 +0000 2009\",\n",
      "        \"default_profile\": false,\n",
      "        \"default_profile_image\": false,\n",
      "        \"description\": \"News from The Associated Press, and a taste of the great journalism produced by AP members and customers. Managed 24/7 by these editors: http://t.co/BibaTN49vB\",\n",
      "        \"entities\": {\n",
      "            \"description\": {\n",
      "                \"urls\": [\n",
      "                    {\n",
      "                        \"display_url\": \"apne.ws/J2EPJ5\",\n",
      "                        \"expanded_url\": \"http://apne.ws/J2EPJ5\",\n",
      "                        \"indices\": [\n",
      "                            137,\n",
      "                            159\n",
      "                        ],\n",
      "                        \"url\": \"http://t.co/BibaTN49vB\"\n",
      "                    }\n",
      "                ]\n",
      "            },\n",
      "            \"url\": {\n",
      "                \"urls\": [\n",
      "                    {\n",
      "                        \"display_url\": \"ap.org\",\n",
      "                        \"expanded_url\": \"http://www.ap.org\",\n",
      "                        \"indices\": [\n",
      "                            0,\n",
      "                            22\n",
      "                        ],\n",
      "                        \"url\": \"http://t.co/2QmQWtmJc7\"\n",
      "                    }\n",
      "                ]\n",
      "            }\n",
      "        },\n",
      "        \"favourites_count\": 10,\n",
      "        \"follow_request_sent\": false,\n",
      "        \"followers_count\": 10149654,\n",
      "        \"following\": false,\n",
      "        \"friends_count\": 7252,\n",
      "        \"geo_enabled\": false,\n",
      "        \"has_extended_profile\": false,\n",
      "        \"id\": 51241574,\n",
      "        \"id_str\": \"51241574\",\n",
      "        \"is_translation_enabled\": true,\n",
      "        \"is_translator\": false,\n",
      "        \"lang\": \"en\",\n",
      "        \"listed_count\": 85727,\n",
      "        \"location\": \"Global\",\n",
      "        \"name\": \"The Associated Press\",\n",
      "        \"notifications\": false,\n",
      "        \"profile_background_color\": \"333333\",\n",
      "        \"profile_background_image_url\": \"http://pbs.twimg.com/profile_background_images/734506342/b3be603514207db70cb0a991c26f2718.jpeg\",\n",
      "        \"profile_background_image_url_https\": \"https://pbs.twimg.com/profile_background_images/734506342/b3be603514207db70cb0a991c26f2718.jpeg\",\n",
      "        \"profile_background_tile\": false,\n",
      "        \"profile_banner_url\": \"https://pbs.twimg.com/profile_banners/51241574/1475250875\",\n",
      "        \"profile_image_url\": \"http://pbs.twimg.com/profile_images/461964160838803457/8z9FImcv_normal.png\",\n",
      "        \"profile_image_url_https\": \"https://pbs.twimg.com/profile_images/461964160838803457/8z9FImcv_normal.png\",\n",
      "        \"profile_link_color\": \"CC3300\",\n",
      "        \"profile_sidebar_border_color\": \"FFFFFF\",\n",
      "        \"profile_sidebar_fill_color\": \"CCCCCC\",\n",
      "        \"profile_text_color\": \"333333\",\n",
      "        \"profile_use_background_image\": true,\n",
      "        \"protected\": false,\n",
      "        \"screen_name\": \"AP\",\n",
      "        \"statuses_count\": 168829,\n",
      "        \"time_zone\": \"Eastern Time (US & Canada)\",\n",
      "        \"translator_type\": \"none\",\n",
      "        \"url\": \"http://t.co/2QmQWtmJc7\",\n",
      "        \"utc_offset\": -18000,\n",
      "        \"verified\": true\n",
      "    }\n",
      "}\n"
     ]
    }
   ],
   "source": [
    "sample_data = load_json(sample)\n",
    "print(json.dumps(sample_data[0], indent=4, sort_keys=True))"
   ]
  },
  {
   "cell_type": "code",
   "execution_count": 5,
   "metadata": {},
   "outputs": [
    {
     "name": "stdout",
     "output_type": "stream",
     "text": [
      "------------------------------------------------------------------\n"
     ]
    }
   ],
   "source": [
    "print(\"------------------------------------------------------------------\")\n",
    "\n",
    "# Using the Sample_Data provided above, write code to answer each of the\n",
    "# following questions:"
   ]
  },
  {
   "cell_type": "code",
   "execution_count": 6,
   "metadata": {},
   "outputs": [
    {
     "name": "stdout",
     "output_type": "stream",
     "text": [
      "User Account: The Associated Press\n"
     ]
    }
   ],
   "source": [
    "# Question 1: What user account is the tweets in the Sample associated\n",
    "# with?\n",
    "user_account = sample_data[0][\"user\"][\"name\"]\n",
    "print(f\"User Account: {user_account}\")"
   ]
  },
  {
   "cell_type": "code",
   "execution_count": 7,
   "metadata": {},
   "outputs": [
    {
     "name": "stdout",
     "output_type": "stream",
     "text": [
      "Follower Count: 10149654\n"
     ]
    }
   ],
   "source": [
    "# Question 2: How many followers does this account have associated with it?\n",
    "follower_count = sample_data[0][\"user\"][\"followers_count\"]\n",
    "print(f\"Follower Count: {follower_count}\")"
   ]
  },
  {
   "cell_type": "code",
   "execution_count": 8,
   "metadata": {},
   "outputs": [
    {
     "name": "stdout",
     "output_type": "stream",
     "text": [
      "Tweet Count (In Sample): 20\n"
     ]
    }
   ],
   "source": [
    "# Question 3: How many tweets are included in the Sample?\n",
    "print(f\"Tweet Count (In Sample): {len(sample_data)}\")"
   ]
  },
  {
   "cell_type": "code",
   "execution_count": 9,
   "metadata": {},
   "outputs": [
    {
     "name": "stdout",
     "output_type": "stream",
     "text": [
      "Tweet Count (Total): 168829\n"
     ]
    }
   ],
   "source": [
    "# Question 4: How many tweets total has this account made?\n",
    "total_tweets = sample_data[0][\"user\"][\"statuses_count\"]\n",
    "print(f\"Tweet Count (Total): {total_tweets}\")"
   ]
  },
  {
   "cell_type": "code",
   "execution_count": 10,
   "metadata": {},
   "outputs": [
    {
     "name": "stdout",
     "output_type": "stream",
     "text": [
      "Most Recent Tweet: RT @AP_Politics: Official says couple hundred Marines arrive in Syria with artillery to help with Islamic State fight, by @lbaldor \n",
      "https:/…\n"
     ]
    }
   ],
   "source": [
    "# Question 5: What was the text in the most recent tweet?\n",
    "recent_tweet = sample_data[0][\"text\"]\n",
    "print(f\"Most Recent Tweet: {recent_tweet}\")"
   ]
  },
  {
   "cell_type": "code",
   "execution_count": 11,
   "metadata": {},
   "outputs": [
    {
     "name": "stdout",
     "output_type": "stream",
     "text": [
      "All Tweets:\n",
      "RT @AP_Politics: Official says couple hundred Marines arrive in Syria with artillery to help with Islamic State fight, by @lbaldor \n",
      "https:/…\n",
      "RT @APWestRegion: Uber's self-driving cars are coming back to California streets, but don't look for them on the app right away https://t.c…\n",
      "RT @APCentralRegion: #Chicago police take a page from #NYC’s police playbook: Focus on building community trust. https://t.co/CbkSSIHNAp ht…\n",
      "RT @APEastRegion: \"Fearless Girl\" statue stares down Wall Street's iconic bull, stirring conversation on #InternationalWomensDay. https://t…\n",
      "RT @AP_Politics: #APFactCheck: How accurate are the Congressional Budget Office estimates? https://t.co/CLSWguXTmN https://t.co/nsREGVQmkS\n",
      "RT @APHealthScience: More than 11,700 daily U.S. heat records were set last month, the second warmest February on record. @borenbears https…\n",
      "RT @APWestRegion: To meet Trump's order to hire 5,000 agents, Border Patrol considers letting some applicants skip lie-detector tests https…\n",
      "RT @APSouthRegion: Woman tells 911 operator her boss will kill her if she leaves the mansion where she works. https://t.co/Cq2TOQdZsE https…\n",
      "RT @AP_Oddities: Florida city's former website taken over by someone hosting pornographic content. https://t.co/f4rivs71Db #odd\n",
      "RT @APCentralRegion: It may take until Thanksgiving to repair a sewer line that caused a football field-sized sinkhole in Michigan. https:/…\n",
      "RT @AP_Sports: From 4-0 down, Barcelona completes amazing comeback against Paris Saint-Germain with 3 goals after the 88th minute https://t…\n",
      "RT @AP_Politics: Meet White House Counsel Don McGahn, President Donald Trump's in-house guard rail. https://t.co/AM7GSpyy6E https://t.co/Kk…\n",
      "RT @APEastRegion: WATCH: FBI Director James Comey says cyber threats facing U.S. are enormous, require cooperation. Video by @ngowi. https:…\n",
      "Should you trust your gut instincts? @OhioState weighs the research. (By @ConversationUS, a source of news from aca… https://t.co/F3faisEfEr\n",
      "RT @AP_Oddities: 'Hey, look, I got a new piercing:' Ski instructor tries to jump between trees while snowboarding, impales lip. https://t.c…\n",
      "AP FACT CHECK: A former inmate didn't murder his girlfriend after receiving a pardon from President Obama. https://t.co/UyzL6T260n\n",
      "Female artists in Rio de Janeiro promote women's rights through their painting and graffiti. https://t.co/PQybjQ2wgA https://t.co/0Bcw8zRkdM\n",
      "With her hands firmly planted on her waist, 'Fearless Girl' statue stares down Wall Street's iconic bull. https://t.co/DTmaDzY62M\n",
      "Heritage reduced to rubble - @AP gets first look inside Mosul museum post IS destruction. https://t.co/lLRBir27dE https://t.co/Hy18VMtw1z\n",
      "RT @APSouthRegion: More from @AP's interview with #CaseyAnthony: The Florida woman, shown now and then, in her own words on Caylee. https:/…\n"
     ]
    }
   ],
   "source": [
    "# Question 6: What was the text associated with each of the tweets\n",
    "# included in this sample data?\n",
    "print(\"All Tweets:\")\n",
    "for tweet in sample_data:\n",
    "    print(f'{tweet[\"text\"]}')"
   ]
  },
  {
   "cell_type": "code",
   "execution_count": 12,
   "metadata": {},
   "outputs": [],
   "source": [
    "# Question 7 (Bonus): Which of the user's tweets was most frequently\n",
    "# retweeted? How many retweets were there?\n"
   ]
  },
  {
   "cell_type": "code",
   "execution_count": null,
   "metadata": {},
   "outputs": [],
   "source": []
  }
 ],
 "metadata": {
  "kernelspec": {
   "display_name": "Python 3",
   "language": "python",
   "name": "python3"
  },
  "language_info": {
   "codemirror_mode": {
    "name": "ipython",
    "version": 3
   },
   "file_extension": ".py",
   "mimetype": "text/x-python",
   "name": "python",
   "nbconvert_exporter": "python",
   "pygments_lexer": "ipython3",
   "version": "3.6.4"
  },
  "varInspector": {
   "cols": {
    "lenName": 16,
    "lenType": 16,
    "lenVar": 40
   },
   "kernels_config": {
    "python": {
     "delete_cmd_postfix": "",
     "delete_cmd_prefix": "del ",
     "library": "var_list.py",
     "varRefreshCmd": "print(var_dic_list())"
    },
    "r": {
     "delete_cmd_postfix": ") ",
     "delete_cmd_prefix": "rm(",
     "library": "var_list.r",
     "varRefreshCmd": "cat(var_dic_list()) "
    }
   },
   "types_to_exclude": [
    "module",
    "function",
    "builtin_function_or_method",
    "instance",
    "_Feature"
   ],
   "window_display": false
  }
 },
 "nbformat": 4,
 "nbformat_minor": 2
}
